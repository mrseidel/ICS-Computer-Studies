{
 "cells": [
  {
   "cell_type": "markdown",
   "metadata": {},
   "source": [
    "Step 1: Import the requests library"
   ]
  },
  {
   "cell_type": "code",
   "execution_count": 1,
   "metadata": {
    "collapsed": false
   },
   "outputs": [],
   "source": [
    "import requests"
   ]
  },
  {
   "cell_type": "markdown",
   "metadata": {},
   "source": [
    "Step 2: Get the file using the URL and assign it to a suitable variable. Thanks to <a href=\"http://www.dr-chuck.com/\">Dr Chuck</a> for the file and his awesome tutorials. "
   ]
  },
  {
   "cell_type": "code",
   "execution_count": 2,
   "metadata": {
    "collapsed": true
   },
   "outputs": [],
   "source": [
    "file = requests.get('http://data.pr4e.org/romeo.txt')"
   ]
  },
  {
   "cell_type": "markdown",
   "metadata": {},
   "source": [
    "Step 3: Process the file according to your needs. Note that the contents of your file are stored in the \"text\" attribute. "
   ]
  },
  {
   "cell_type": "code",
   "execution_count": 3,
   "metadata": {
    "collapsed": false
   },
   "outputs": [
    {
     "name": "stdout",
     "output_type": "stream",
     "text": [
      "But soft what light through yonder window breaks\n",
      "It is the east and Juliet is the sun\n",
      "Arise fair sun and kill the envious moon\n",
      "Who is already sick and pale with grief\n",
      "\n",
      "There are 33 words and 4 lines in the file.\n"
     ]
    }
   ],
   "source": [
    "# Put the lines and words in suitably-named lists. Note the use of strip() to remove any pesky extra lines or spaces.\n",
    "linesList = file.text.strip().split('\\n')\n",
    "wordsList = file.text.strip().split()\n",
    "\n",
    "# Print the file line-by-line.\n",
    "for line in linesList:\n",
    "    print (line)\n",
    "\n",
    "# Print the number of words and lines.\n",
    "print ()\n",
    "print ('There are', len(wordsList), 'words and', len(linesList), 'lines in the file.')"
   ]
  }
 ],
 "metadata": {
  "kernelspec": {
   "display_name": "Python 3",
   "language": "python",
   "name": "python3"
  },
  "language_info": {
   "codemirror_mode": {
    "name": "ipython",
    "version": 3
   },
   "file_extension": ".py",
   "mimetype": "text/x-python",
   "name": "python",
   "nbconvert_exporter": "python",
   "pygments_lexer": "ipython3",
   "version": "3.5.2"
  }
 },
 "nbformat": 4,
 "nbformat_minor": 1
}
