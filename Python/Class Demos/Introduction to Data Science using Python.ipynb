{
 "cells": [
  {
   "cell_type": "markdown",
   "metadata": {},
   "source": [
    "From http://www.codemag.com/article/1611081"
   ]
  },
  {
   "cell_type": "markdown",
   "metadata": {},
   "source": [
    "<h1>NumPy Array Basics</h1>\n",
    "\n",
    "In NumPy, an array is of type ndarray (n-dimensional array). A NumPy array is an array of homogeneous values (all of the same type), and all items occupy a contiguous block of memory.\n",
    "\n",
    "To use NumPy, you first need to import the numpy package:"
   ]
  },
  {
   "cell_type": "code",
   "execution_count": 1,
   "metadata": {
    "collapsed": true
   },
   "outputs": [],
   "source": [
    "import numpy as np"
   ]
  },
  {
   "cell_type": "markdown",
   "metadata": {},
   "source": [
    "Array operations are very similar to that of the Python list. For example, the following code snippet creates a Python list and then converts it to a NumPy array:"
   ]
  },
  {
   "cell_type": "code",
   "execution_count": 2,
   "metadata": {
    "collapsed": true
   },
   "outputs": [],
   "source": [
    "l1 = [1,2,3,4,5]\n",
    "array1 = np.array(l1) # rank 1 array"
   ]
  },
  {
   "cell_type": "markdown",
   "metadata": {},
   "source": [
    "In this case, array1 is known as a rank 1 (one dimensional) array. You can print out the array as usual using the print() function:"
   ]
  },
  {
   "cell_type": "code",
   "execution_count": 3,
   "metadata": {
    "collapsed": false
   },
   "outputs": [
    {
     "name": "stdout",
     "output_type": "stream",
     "text": [
      "[1 2 3 4 5]\n"
     ]
    }
   ],
   "source": [
    "print (array1) # [1 2 3 4 5]"
   ]
  },
  {
   "cell_type": "markdown",
   "metadata": {},
   "source": [
    "You can print out the shape of the array using the shape property:"
   ]
  },
  {
   "cell_type": "code",
   "execution_count": 4,
   "metadata": {
    "collapsed": false
   },
   "outputs": [
    {
     "name": "stdout",
     "output_type": "stream",
     "text": [
      "(5,)\n"
     ]
    }
   ],
   "source": [
    "print (array1.shape) # (5,)"
   ]
  },
  {
   "cell_type": "markdown",
   "metadata": {},
   "source": [
    "The shape property returns a tuple containing the dimension of the array. In the above example, array1 is a 1-dimensional array of five items.\n",
    "\n",
    "Just like Python list, you can access items in the NumPy array using indexing as well as slicing:"
   ]
  },
  {
   "cell_type": "code",
   "execution_count": 5,
   "metadata": {
    "collapsed": false
   },
   "outputs": [
    {
     "name": "stdout",
     "output_type": "stream",
     "text": [
      "array1: [1 2 3 4 5]\n",
      "array1.shape:  (5,)\n",
      "array1[0]: 1\n",
      "array1[1]: 2\n",
      "array1[1:3]: [2 3]\n",
      "array1[:-2]: [1 2 3]\n",
      "array1[3:] [4 5]\n"
     ]
    }
   ],
   "source": [
    "print ('array1:', array1) # [1 2 3 4 5]\n",
    "print ('array1.shape: ', array1.shape) # (5,)\n",
    "print ('array1[0]:', array1[0]) # 1\n",
    "print ('array1[1]:', array1[1]) # 2\n",
    "print ('array1[1:3]:', array1[1:3]) # [2 3]\n",
    "print ('array1[:-2]:', array1[:-2]) # [1 2 3]\n",
    "print ('array1[3:]', array1[3:]) # [4 5]"
   ]
  },
  {
   "cell_type": "markdown",
   "metadata": {},
   "source": [
    "You can also pass in a list containing the index of the items you want to extract to the array:"
   ]
  },
  {
   "cell_type": "code",
   "execution_count": 6,
   "metadata": {
    "collapsed": false
   },
   "outputs": [
    {
     "name": "stdout",
     "output_type": "stream",
     "text": [
      "array1[[2,3]]: [3 4]\n"
     ]
    }
   ],
   "source": [
    "print ('array1[[2,3]]:', array1[[2,3]]) # [3,4]"
   ]
  },
  {
   "cell_type": "markdown",
   "metadata": {},
   "source": [
    "The following code snippet shows how you can create a two-dimensional array:"
   ]
  },
  {
   "cell_type": "code",
   "execution_count": 7,
   "metadata": {
    "collapsed": false
   },
   "outputs": [
    {
     "name": "stdout",
     "output_type": "stream",
     "text": [
      "array2: [[1 2 3 4 5]\n",
      " [6 7 8 9 0]]\n",
      "shape: (2, 5)\n",
      "array2[0,0]: 1\n",
      "array2[0,1]: 2\n",
      "array2[1,0]: 6\n"
     ]
    }
   ],
   "source": [
    "l2 = [6,7,8,9,0]\n",
    "array2 = np.array([l1,l2]) # rank 2 array\n",
    "print ('array2:', array2)\n",
    "'''\n",
    "[[1 2 3 4 5]\n",
    " [6 7 8 9 0]]\n",
    "'''\n",
    "print ('shape:', array2.shape) # (2,5) - 2 rows and\n",
    "                            # 5 columns\n",
    "print ('array2[0,0]:', array2[0,0]) # 1\n",
    "print ('array2[0,1]:', array2[0,1]) # 2\n",
    "print ('array2[1,0]:', array2[1,0]) # 6"
   ]
  },
  {
   "cell_type": "markdown",
   "metadata": {},
   "source": [
    "<h1>Creating and Initializing Arrays using NumPy</h1>\n",
    "\n",
    "NumPy contains a number of helper functions that make it easy to initialize arrays with some default values. For example, if you want to create an array containing all zeroes, you can use the zeros() function with a number indicating the size of the array:"
   ]
  },
  {
   "cell_type": "code",
   "execution_count": 8,
   "metadata": {
    "collapsed": false
   },
   "outputs": [
    {
     "name": "stdout",
     "output_type": "stream",
     "text": [
      "a1.shape: (2,)\n",
      "a1[0]: 0.0\n",
      "a1[1]: 0.0\n"
     ]
    }
   ],
   "source": [
    "a1 = np.zeros(2) # array of rank 1 with all 0s\n",
    "print ('a1.shape:', a1.shape) # (2,)\n",
    "print ('a1[0]:', a1[0]) # 0.0\n",
    "print ('a1[1]:', a1[1]) # 0.0"
   ]
  },
  {
   "cell_type": "markdown",
   "metadata": {},
   "source": [
    "If you want to create a rank 2 array, simply pass in a tuple:"
   ]
  },
  {
   "cell_type": "code",
   "execution_count": 9,
   "metadata": {
    "collapsed": false
   },
   "outputs": [
    {
     "name": "stdout",
     "output_type": "stream",
     "text": [
      "a2.shape: (2, 3)\n",
      "a2: [[ 0.  0.  0.]\n",
      " [ 0.  0.  0.]]\n"
     ]
    }
   ],
   "source": [
    "a2 = np.zeros((2,3)) # array of rank 2 with all 0s;\n",
    "                     # 2 rows and 3 columns\n",
    "print ('a2.shape:', a2.shape) # (2,3)\n",
    "print ('a2:', a2)"
   ]
  },
  {
   "cell_type": "markdown",
   "metadata": {},
   "source": [
    "To initialize the array to some other values other than zeroes, use the full() function:"
   ]
  },
  {
   "cell_type": "code",
   "execution_count": 16,
   "metadata": {
    "collapsed": false
   },
   "outputs": [
    {
     "name": "stdout",
     "output_type": "stream",
     "text": [
      "a3: [[ 8.  8.  8.]\n",
      " [ 8.  8.  8.]]\n"
     ]
    }
   ],
   "source": [
    "a3 = np.full((2,3), 8.0) # array of rank 2\n",
    "                           # with all 8s\n",
    "print ('a3:', a3)"
   ]
  },
  {
   "cell_type": "code",
   "execution_count": null,
   "metadata": {
    "collapsed": true
   },
   "outputs": [],
   "source": []
  },
  {
   "cell_type": "markdown",
   "metadata": {},
   "source": [
    "In linear algebra, you often need to deal with an identity matrix, and you can create this in NumPy easily with the eye() function:"
   ]
  },
  {
   "cell_type": "code",
   "execution_count": 11,
   "metadata": {
    "collapsed": false
   },
   "outputs": [
    {
     "name": "stdout",
     "output_type": "stream",
     "text": [
      "a4: [[ 1.  0.  0.  0.]\n",
      " [ 0.  1.  0.  0.]\n",
      " [ 0.  0.  1.  0.]\n",
      " [ 0.  0.  0.  1.]]\n"
     ]
    }
   ],
   "source": [
    "a4 = np.eye(4) # 4x4 identity matrix\n",
    "print ('a4:', a4)"
   ]
  },
  {
   "cell_type": "markdown",
   "metadata": {},
   "source": [
    "And if you need to populate an array with some random values, you can use the random.random() function to generate random values between 0.0 and 1.0:"
   ]
  },
  {
   "cell_type": "code",
   "execution_count": 12,
   "metadata": {
    "collapsed": false
   },
   "outputs": [
    {
     "name": "stdout",
     "output_type": "stream",
     "text": [
      "a5: [[ 0.80902363  0.88658981  0.73351191  0.7686284 ]\n",
      " [ 0.73578443  0.97378247  0.99004091  0.6710785 ]]\n"
     ]
    }
   ],
   "source": [
    "a5 = np.random.random((2,4)) # populate a rank 2\n",
    "                             # array (2 rows\n",
    "                             # 4 columns) with\n",
    "                             # random values\n",
    "print ('a5:', a5)"
   ]
  },
  {
   "cell_type": "markdown",
   "metadata": {},
   "source": [
    "Finally, you can create a range of values from 0 to n-1 using the arange() function:"
   ]
  },
  {
   "cell_type": "code",
   "execution_count": 13,
   "metadata": {
    "collapsed": false
   },
   "outputs": [
    {
     "name": "stdout",
     "output_type": "stream",
     "text": [
      "a6: [0 1 2 3 4 5 6 7 8 9]\n"
     ]
    }
   ],
   "source": [
    "a6 = np.arange(10) # creates a range from 0 to 9\n",
    "print ('a6:', a6) # [0 1 2 3 4 5 6 7 8 9]"
   ]
  },
  {
   "cell_type": "markdown",
   "metadata": {},
   "source": [
    "<h1>Boolean Array Indexing</h1>\n",
    "\n",
    "One of the many useful features of the NumPy array is its support for array boolean indexing. Consider the following example: You have a list of numbers and you need to retrieve all of the even numbers from the list. Using Python’s list, you need to iterate through all items in the list and perform a check individually. Using NumPy array, however, things are much easier. Look at the following example:"
   ]
  },
  {
   "cell_type": "code",
   "execution_count": 15,
   "metadata": {
    "collapsed": false
   },
   "outputs": [],
   "source": [
    "nums = np.array([23,45,78,89,23,11,22])"
   ]
  },
  {
   "cell_type": "markdown",
   "metadata": {},
   "source": [
    "You first specify the condition, testing for even numbers, and then assign it to a variable:"
   ]
  },
  {
   "cell_type": "code",
   "execution_count": 19,
   "metadata": {
    "collapsed": false
   },
   "outputs": [],
   "source": [
    "even_nums = nums % 2 == 0"
   ]
  },
  {
   "cell_type": "markdown",
   "metadata": {},
   "source": [
    "The even_nums variable is now a NumPy array, containing a collection of Boolean values. If you print it out, you’ll see just that:"
   ]
  },
  {
   "cell_type": "code",
   "execution_count": 20,
   "metadata": {
    "collapsed": false
   },
   "outputs": [
    {
     "name": "stdout",
     "output_type": "stream",
     "text": [
      "[False False  True False False False  True]\n"
     ]
    }
   ],
   "source": [
    "print (even_nums)"
   ]
  },
  {
   "cell_type": "markdown",
   "metadata": {},
   "source": [
    "The True values indicate that the particular item is an even number. Using this Boolean array, you can now use it as an index to the numbers array:"
   ]
  },
  {
   "cell_type": "code",
   "execution_count": 24,
   "metadata": {
    "collapsed": false
   },
   "outputs": [
    {
     "name": "stdout",
     "output_type": "stream",
     "text": [
      "[78 22]\n"
     ]
    }
   ],
   "source": [
    "print (nums[even_nums])"
   ]
  },
  {
   "cell_type": "markdown",
   "metadata": {},
   "source": [
    "The above statements could be written succinctly like this:"
   ]
  },
  {
   "cell_type": "code",
   "execution_count": 25,
   "metadata": {
    "collapsed": false
   },
   "outputs": [
    {
     "name": "stdout",
     "output_type": "stream",
     "text": [
      "[78 22]\n"
     ]
    }
   ],
   "source": [
    "print (nums[nums % 2 == 0])"
   ]
  },
  {
   "cell_type": "markdown",
   "metadata": {},
   "source": [
    "The <b><i>array boolean indexing</i></b> feature makes it extremely useful to manipulate a large amount of data without worrying about the underlying implementation. Here’s another example:"
   ]
  },
  {
   "cell_type": "code",
   "execution_count": null,
   "metadata": {
    "collapsed": true
   },
   "outputs": [],
   "source": []
  }
 ],
 "metadata": {
  "kernelspec": {
   "display_name": "Python 3",
   "language": "python",
   "name": "python3"
  },
  "language_info": {
   "codemirror_mode": {
    "name": "ipython",
    "version": 3
   },
   "file_extension": ".py",
   "mimetype": "text/x-python",
   "name": "python",
   "nbconvert_exporter": "python",
   "pygments_lexer": "ipython3",
   "version": "3.5.2"
  }
 },
 "nbformat": 4,
 "nbformat_minor": 1
}
