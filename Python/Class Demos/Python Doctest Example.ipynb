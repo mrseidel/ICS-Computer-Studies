{
 "cells": [
  {
   "cell_type": "code",
   "execution_count": 1,
   "metadata": {
    "collapsed": false
   },
   "outputs": [],
   "source": [
    "def is_palindrome(s):\n",
    "    \"\"\" (str) -> bool\n",
    "\n",
    "    Return True if and only if s is a palindrome\n",
    "\n",
    "    >>> is_palindrome('noon')\n",
    "    True\n",
    "    >>> is_palindrome('racecar')\n",
    "    True\n",
    "    >>> is_palindrome('dented')\n",
    "    False\n",
    "    \"\"\"\n",
    "    \n",
    "    return s == s[::-1]"
   ]
  },
  {
   "cell_type": "markdown",
   "metadata": {},
   "source": [
    "Include this code for testing, then comment it out when no longer needed."
   ]
  },
  {
   "cell_type": "code",
   "execution_count": 2,
   "metadata": {
    "collapsed": false
   },
   "outputs": [
    {
     "name": "stdout",
     "output_type": "stream",
     "text": [
      "TestResults(failed=0, attempted=3)\n"
     ]
    }
   ],
   "source": [
    "if __name__ == '__main__':\n",
    "    import doctest\n",
    "    print (doctest.testmod())"
   ]
  }
 ],
 "metadata": {
  "kernelspec": {
   "display_name": "Python 3",
   "language": "python",
   "name": "python3"
  },
  "language_info": {
   "codemirror_mode": {
    "name": "ipython",
    "version": 3
   },
   "file_extension": ".py",
   "mimetype": "text/x-python",
   "name": "python",
   "nbconvert_exporter": "python",
   "pygments_lexer": "ipython3",
   "version": "3.5.2"
  }
 },
 "nbformat": 4,
 "nbformat_minor": 0
}
