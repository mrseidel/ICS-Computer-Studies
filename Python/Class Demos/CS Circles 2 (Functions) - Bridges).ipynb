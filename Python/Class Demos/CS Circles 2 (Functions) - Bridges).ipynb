{
 "cells": [
  {
   "cell_type": "markdown",
   "metadata": {},
   "source": [
    "From <a href=\"http://cscircles.cemc.uwaterloo.ca/2-functions/\">http://cscircles.cemc.uwaterloo.ca/2-functions/</a>:\n",
    "\n",
    "In this assignment we are asked to calculate the maximum weight of a truck which can cross the bridges. If we think logically, about it, we decide that it must be the <b>minimum</b> of the weight limits a, b, and c.\n",
    "<br>\n",
    "<img src=\"https://raw.githubusercontent.com/pbeens/ICS-Computer-Studies/master/Python/Class%20Demos/files/cscircles_one_road.png\", width=50%,height=50%>"
   ]
  },
  {
   "cell_type": "markdown",
   "metadata": {
    "collapsed": true
   },
   "source": [
    "Luckily, Python has a min() function we can use to make this task easy. If we assign the values of a, b, and c, we can quickly determine the minumum of the three:"
   ]
  },
  {
   "cell_type": "code",
   "execution_count": 1,
   "metadata": {
    "collapsed": false
   },
   "outputs": [
    {
     "name": "stdout",
     "output_type": "stream",
     "text": [
      "The weight limit for this path is 1000 units.\n"
     ]
    }
   ],
   "source": [
    "a = 1000\n",
    "b = 2340\n",
    "c = 3246\n",
    "print ('The weight limit for this path is', min(a, b, c), 'units.')"
   ]
  },
  {
   "cell_type": "markdown",
   "metadata": {},
   "source": [
    "So the maximum weight of a truck crossing the bridges can only be 1000 units (kg, lbs, etc.).\n",
    "\n",
    "Now what about this example where we have two routes we can take?\n",
    "\n",
    "\n",
    "<img src=\"https://raw.githubusercontent.com/pbeens/ICS-Computer-Studies/master/Python/Class%20Demos/files/cscircles_two_roads.png\", width=50%, height=50%>"
   ]
  },
  {
   "cell_type": "markdown",
   "metadata": {},
   "source": [
    "In this case we want to take the <b>maximum</b> of the two mimimums. \n",
    "\n",
    "Let's start by setting the values of all the weight limits:"
   ]
  },
  {
   "cell_type": "code",
   "execution_count": 2,
   "metadata": {
    "collapsed": true
   },
   "outputs": [],
   "source": [
    "a = 1000\n",
    "b = 2340\n",
    "c = 3246\n",
    "d = 1400\n",
    "e = 5000"
   ]
  },
  {
   "cell_type": "markdown",
   "metadata": {},
   "source": [
    "Then let's create two variables to represent the maximum weight for each of the two paths, which, don't forget, has to be the <b>minimum</b> of the values of the two paths."
   ]
  },
  {
   "cell_type": "code",
   "execution_count": 3,
   "metadata": {
    "collapsed": false
   },
   "outputs": [
    {
     "name": "stdout",
     "output_type": "stream",
     "text": [
      "The 1st path limit is 1000 and the 2nd path limit is 1400\n"
     ]
    }
   ],
   "source": [
    "path_1_limit = min(a, b, c)\n",
    "path_2_limit = min(d, e)\n",
    "print ('The 1st path limit is', path_1_limit, 'and the 2nd path limit is', path_2_limit)"
   ]
  },
  {
   "cell_type": "markdown",
   "metadata": {},
   "source": [
    "The maximum weight limit would obviously be 1400 units, which is the <b>maximum</b> of our two values. Using the max() function we have:"
   ]
  },
  {
   "cell_type": "code",
   "execution_count": 4,
   "metadata": {
    "collapsed": false
   },
   "outputs": [
    {
     "name": "stdout",
     "output_type": "stream",
     "text": [
      "The maximum weight that be carried is 1400 units.\n"
     ]
    }
   ],
   "source": [
    "print ('The maximum weight that be carried is', max(path_1_limit, path_2_limit), 'units.')"
   ]
  }
 ],
 "metadata": {
  "kernelspec": {
   "display_name": "Python 3",
   "language": "python",
   "name": "python3"
  },
  "language_info": {
   "codemirror_mode": {
    "name": "ipython",
    "version": 3
   },
   "file_extension": ".py",
   "mimetype": "text/x-python",
   "name": "python",
   "nbconvert_exporter": "python",
   "pygments_lexer": "ipython3",
   "version": "3.5.2"
  }
 },
 "nbformat": 4,
 "nbformat_minor": 1
}
