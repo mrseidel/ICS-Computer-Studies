{
 "cells": [
  {
   "cell_type": "markdown",
   "metadata": {},
   "source": [
    "In this assignment we are asked to calculate the maximum weight of a truck which can cross the bridges. If we think logically, about it, we decide that it must be the <b>minimum</b> of a, b, and c.\n",
    "<br>\n",
    "<img src=\"https://raw.githubusercontent.com/pbeens/ICS-Computer-Studies/master/Python/Class%20Demos/files/cscircles_one_road.png\", width=50%,height=50%>"
   ]
  },
  {
   "cell_type": "markdown",
   "metadata": {
    "collapsed": true
   },
   "source": [
    "Luckily, Python has a min() function we can use. If we assign the values of a, b, and c, we can quickly determine the minumum of the three:"
   ]
  },
  {
   "cell_type": "code",
   "execution_count": 1,
   "metadata": {
    "collapsed": false
   },
   "outputs": [
    {
     "name": "stdout",
     "output_type": "stream",
     "text": [
      "1000\n"
     ]
    }
   ],
   "source": [
    "a = 1000\n",
    "b = 2340\n",
    "c = 3246\n",
    "print (min(a, b, c))"
   ]
  },
  {
   "cell_type": "markdown",
   "metadata": {},
   "source": [
    "So the maximum weight of a truck crossing the bridges can only be 1000 units (kg, lbs).\n",
    "\n",
    "Now what about this example where we have two routes we can take?\n",
    "\n",
    "\n",
    "<img src=\"https://github.com/pbeens/ICS-Computer-Studies/blob/master/Python/Class%20Demos/files/cscircles_two_roads.png?raw=true\", width=50%, height=50%>"
   ]
  },
  {
   "cell_type": "markdown",
   "metadata": {},
   "source": [
    "<More to come>"
   ]
  },
  {
   "cell_type": "markdown",
   "metadata": {},
   "source": [
    "More to come..."
   ]
  },
  {
   "cell_type": "code",
   "execution_count": null,
   "metadata": {
    "collapsed": true
   },
   "outputs": [],
   "source": []
  }
 ],
 "metadata": {
  "kernelspec": {
   "display_name": "Python 3",
   "language": "python",
   "name": "python3"
  },
  "language_info": {
   "codemirror_mode": {
    "name": "ipython",
    "version": 3
   },
   "file_extension": ".py",
   "mimetype": "text/x-python",
   "name": "python",
   "nbconvert_exporter": "python",
   "pygments_lexer": "ipython3",
   "version": "3.5.2"
  }
 },
 "nbformat": 4,
 "nbformat_minor": 1
}
